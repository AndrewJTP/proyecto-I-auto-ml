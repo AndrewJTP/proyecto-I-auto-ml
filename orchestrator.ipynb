{
  "cells": [
    {
      "cell_type": "markdown",
      "source": [
        "### Generamos las credenciales"
      ],
      "metadata": {
        "nteract": {
          "transient": {
            "deleting": false
          }
        }
      }
    },
    {
      "cell_type": "code",
      "source": [
        "from azure.identity import DefaultAzureCredential\n",
        "from azure.ai.ml import MLClient\n",
        "\n",
        "credential = DefaultAzureCredential()\n",
        "ml_client = None\n",
        "try:\n",
        "    ml_client = MLClient.from_config(credential)\n",
        "except Exception as ex:\n",
        "    print(ex)\n",
        "    # Enter details of your Azure Machine Learning workspace\n",
        "    subscription_id = 'd86ba508-6a09-4959-8b9f-f076ad827658'\n",
        "    resource_group = 'cloud-computing-module-iv'\n",
        "    workspace_name = 'cloud-computing-project'\n",
        "    ml_client = MLClient(credential, subscription_id, resource_group, workspace_name)"
      ],
      "outputs": [
        {
          "output_type": "stream",
          "name": "stderr",
          "text": "Found the config file in: /config.json\n"
        }
      ],
      "execution_count": 2,
      "metadata": {
        "gather": {
          "logged": 1698606072380
        }
      }
    },
    {
      "cell_type": "markdown",
      "source": [
        "### Definimos nuestro workspace"
      ],
      "metadata": {
        "nteract": {
          "transient": {
            "deleting": false
          }
        }
      }
    },
    {
      "cell_type": "code",
      "source": [
        "from azureml.core import Workspace\n",
        "ws = Workspace.from_config()\n",
        "print(ws.name, ws.resource_group, ws.location, ws.subscription_id, sep='\\n')"
      ],
      "outputs": [
        {
          "output_type": "stream",
          "name": "stdout",
          "text": "azure-ml-projecto-1\nprojecto-azire-machine-learning\neastus2\n7b2e08d3-2780-4db1-b31f-5de9c87471ed\n"
        }
      ],
      "execution_count": 140,
      "metadata": {
        "jupyter": {
          "source_hidden": false,
          "outputs_hidden": false
        },
        "nteract": {
          "transient": {
            "deleting": false
          }
        },
        "gather": {
          "logged": 1698575515864
        }
      }
    },
    {
      "cell_type": "markdown",
      "source": [
        "### Creamos el cluster (Si es necesario)\n",
        "Estamos utilizando un cluster estandar sin GPU ya que nuestro problema se basa solamente en la clasificacion de personas si sobrevivieron al titanic o no.\n",
        "\n",
        "E incluso este cluster que estamos utilizando es un grande para la cantidad de datos que estamos procesando"
      ],
      "metadata": {
        "nteract": {
          "transient": {
            "deleting": false
          }
        }
      }
    },
    {
      "cell_type": "code",
      "source": [
        "#create cluster\n",
        "from azure.ai.ml.entities import AmlCompute\n",
        "from azure.core.exceptions import ResourceNotFoundError\n",
        "\n",
        "compute_name = \"cpu-cluster\"\n",
        "\n",
        "try:\n",
        "    _ = ml_client.compute.get(compute_name)\n",
        "    print(\"Compute already exist\")\n",
        "except ResourceNotFoundError:\n",
        "    compute_config = AmlCompute(\n",
        "        name=compute_name,\n",
        "        type=\"amlcompute\",\n",
        "        size=\"STANDARD_D2_V2\",\n",
        "        idle_time_before_scale_down=120,\n",
        "        min_instances=0,\n",
        "        max_instances=4\n",
        "    )\n",
        "    ml_client.begin_create_or_update(compute_config).result()"
      ],
      "outputs": [
        {
          "output_type": "stream",
          "name": "stdout",
          "text": "Compute already exist\n"
        }
      ],
      "execution_count": 141,
      "metadata": {
        "jupyter": {
          "source_hidden": false,
          "outputs_hidden": false
        },
        "nteract": {
          "transient": {
            "deleting": false
          }
        },
        "gather": {
          "logged": 1698575517026
        }
      }
    },
    {
      "cell_type": "markdown",
      "source": [
        "### Separamos los datos en entrenamiento // Validacion"
      ],
      "metadata": {
        "nteract": {
          "transient": {
            "deleting": false
          }
        }
      }
    },
    {
      "cell_type": "code",
      "source": [
        "from azureml.core import Dataset, Datastore\n",
        "from azure.ai.ml.entities import Data\n",
        "import pandas as pd\n",
        "\n",
        "datastore = Datastore.get(ws, \"workspaceworkingdirectory\")\n",
        "dataset = Dataset.Tabular.from_delimited_files(path=(datastore, 'Users/wilson.ramirez/project-I/data/processed_titanic.csv'))\n",
        "\n",
        "training_data, validation_data = dataset.random_split(percentage=0.8, seed=223)\n",
        "\n",
        "training_data.to_pandas_dataframe().to_csv('./data/training_data/titanic_training.csv')\n",
        "validation_data.to_pandas_dataframe().to_csv('./data/validation_data/titanic_validation.csv')"
      ],
      "outputs": [],
      "execution_count": 142,
      "metadata": {
        "jupyter": {
          "source_hidden": false,
          "outputs_hidden": false
        },
        "nteract": {
          "transient": {
            "deleting": false
          }
        },
        "gather": {
          "logged": 1698575518787
        },
        "collapsed": false
      }
    },
    {
      "cell_type": "markdown",
      "source": [
        "### Creamos los archivos MLTable para poder utilizar los datos"
      ],
      "metadata": {
        "nteract": {
          "transient": {
            "deleting": false
          }
        }
      }
    },
    {
      "cell_type": "code",
      "source": [
        "import mltable\n",
        "\n",
        "paths = [\n",
        "    {'file': './data/training_data/titanic_training.csv'}\n",
        "]\n",
        "train_table = mltable.from_delimited_files(paths)\n",
        "train_table.save('./data/training_data')\n",
        "\n",
        "paths = [\n",
        "    {'file': './data/validation_data/titanic_validation.csv'}\n",
        "]\n",
        "train_table = mltable.from_delimited_files(paths)\n",
        "train_table.save('./data/validation_data')"
      ],
      "outputs": [],
      "execution_count": 143,
      "metadata": {
        "jupyter": {
          "source_hidden": false,
          "outputs_hidden": false
        },
        "nteract": {
          "transient": {
            "deleting": false
          }
        },
        "gather": {
          "logged": 1698575519285
        }
      }
    },
    {
      "cell_type": "markdown",
      "source": [
        "### Cargamos los datos para el entrenamiento del modelo"
      ],
      "metadata": {
        "nteract": {
          "transient": {
            "deleting": false
          }
        }
      }
    },
    {
      "cell_type": "code",
      "source": [
        "from azure.ai.ml import automl, Input\n",
        "from azure.ai.ml.constants import AssetTypes\n",
        "\n",
        "my_compute_name = \"cpu-cluster\"\n",
        "my_exp_name = \"titanic-survival-rate\"\n",
        "target_column = \"Survived\"\n",
        "\n",
        "my_training_data_input = Input(\n",
        "    type=AssetTypes.MLTABLE, path=\"./data/training_data\"\n",
        ")\n",
        "\n",
        "my_validation_data_input = Input(\n",
        "    type=AssetTypes.MLTABLE, path=\"./data/validation_data\"\n",
        ")"
      ],
      "outputs": [],
      "execution_count": 144,
      "metadata": {
        "jupyter": {
          "source_hidden": false,
          "outputs_hidden": false
        },
        "nteract": {
          "transient": {
            "deleting": false
          }
        },
        "gather": {
          "logged": 1698575519422
        }
      }
    },
    {
      "cell_type": "markdown",
      "source": [
        "### Definimos los parametros para el entrenamiento del modelo"
      ],
      "metadata": {
        "nteract": {
          "transient": {
            "deleting": false
          }
        }
      }
    },
    {
      "cell_type": "code",
      "source": [
        "classification_job = automl.classification(\n",
        "    compute=my_compute_name,\n",
        "    experiment_name=my_exp_name,\n",
        "    training_data=my_training_data_input,\n",
        "    validation_data=my_validation_data_input,\n",
        "    target_column_name=target_column,\n",
        "    primary_metric=\"accuracy\",\n",
        "    enable_model_explainability=True\n",
        ")\n",
        "\n",
        "# Limits are all optional\n",
        "classification_job.set_limits(\n",
        "    timeout_minutes=60, \n",
        "    trial_timeout_minutes=10, \n",
        "    enable_early_termination=True,\n",
        "    max_trials= 10\n",
        ")"
      ],
      "outputs": [],
      "execution_count": 145,
      "metadata": {
        "jupyter": {
          "source_hidden": false,
          "outputs_hidden": false
        },
        "nteract": {
          "transient": {
            "deleting": false
          }
        },
        "gather": {
          "logged": 1698575520963
        }
      }
    },
    {
      "cell_type": "markdown",
      "source": [
        "### Creamos el job para el entrenamiento"
      ],
      "metadata": {
        "nteract": {
          "transient": {
            "deleting": false
          }
        }
      }
    },
    {
      "cell_type": "code",
      "source": [
        "# Submit the AutoML job\n",
        "returned_job = ml_client.jobs.create_or_update(\n",
        "    classification_job\n",
        ")  # submit the job to the backend\n",
        "\n",
        "print(f\"Created job: {returned_job}\")\n",
        "\n",
        "# Get a URL for the status of the job\n",
        "returned_job.services[\"Studio\"].endpoint"
      ],
      "outputs": [
        {
          "output_type": "stream",
          "name": "stderr",
          "text": "Uploading training_data (0.06 MBs): 100%|██████████| 57259/57259 [00:00<00:00, 443292.43it/s]\n\n\nUploading validation_data (0.02 MBs): 100%|██████████| 16341/16341 [00:00<00:00, 168495.18it/s]\n\n\n"
        },
        {
          "output_type": "stream",
          "name": "stdout",
          "text": "Created job: compute: azureml:cpu-cluster\ncreation_context:\n  created_at: '2023-10-29T10:25:04.955025+00:00'\n  created_by: WILSON FABRICIO RAMIREZ SANDY\n  created_by_type: User\ndisplay_name: dynamic_hair_lwry98101p\nexperiment_name: titanic-survival-rate\nid: azureml:/subscriptions/7b2e08d3-2780-4db1-b31f-5de9c87471ed/resourceGroups/projecto-azire-machine-learning/providers/Microsoft.MachineLearningServices/workspaces/azure-ml-projecto-1/jobs/dynamic_hair_lwry98101p\nlimits:\n  enable_early_termination: true\n  max_concurrent_trials: 1\n  max_cores_per_trial: -1\n  max_nodes: 1\n  max_trials: 10\n  timeout_minutes: 60\n  trial_timeout_minutes: 10\nlog_verbosity: info\nname: dynamic_hair_lwry98101p\noutputs: {}\nprimary_metric: accuracy\nproperties: {}\nresources:\n  instance_count: 1\n  shm_size: 2g\nservices:\n  Studio:\n    endpoint: https://ml.azure.com/runs/dynamic_hair_lwry98101p?wsid=/subscriptions/7b2e08d3-2780-4db1-b31f-5de9c87471ed/resourcegroups/projecto-azire-machine-learning/workspaces/azure-ml-projecto-1&tid=cc28633f-12b8-46cb-bc15-951dae239b4d\n  Tracking:\n    endpoint: azureml://eastus2.api.azureml.ms/mlflow/v1.0/subscriptions/7b2e08d3-2780-4db1-b31f-5de9c87471ed/resourceGroups/projecto-azire-machine-learning/providers/Microsoft.MachineLearningServices/workspaces/azure-ml-projecto-1?\nstatus: NotStarted\ntags: {}\ntarget_column_name: Survived\ntask: classification\ntraining:\n  enable_dnn_training: false\n  enable_model_explainability: true\n  enable_onnx_compatible_models: false\n  enable_stack_ensemble: true\n  enable_vote_ensemble: true\n  ensemble_model_download_timeout_minutes: 5\n  training_mode: auto\ntraining_data:\n  path: azureml://datastores/workspaceblobstore/paths/LocalUpload/168639d3addacf52cb348c9d82eea173/training_data\n  type: mltable\ntype: automl\nvalidation_data:\n  path: azureml://datastores/workspaceblobstore/paths/LocalUpload/0802ca123514784baec1bc25bb5ff3a4/validation_data\n  type: mltable\n\n"
        },
        {
          "output_type": "execute_result",
          "execution_count": 146,
          "data": {
            "text/plain": "'https://ml.azure.com/runs/dynamic_hair_lwry98101p?wsid=/subscriptions/7b2e08d3-2780-4db1-b31f-5de9c87471ed/resourcegroups/projecto-azire-machine-learning/workspaces/azure-ml-projecto-1&tid=cc28633f-12b8-46cb-bc15-951dae239b4d'"
          },
          "metadata": {}
        }
      ],
      "execution_count": 146,
      "metadata": {
        "jupyter": {
          "source_hidden": false,
          "outputs_hidden": false
        },
        "nteract": {
          "transient": {
            "deleting": false
          }
        },
        "gather": {
          "logged": 1698575529328
        }
      }
    },
    {
      "cell_type": "markdown",
      "source": [
        "### Trackeamos el job para elegir el mejor modelo"
      ],
      "metadata": {
        "nteract": {
          "transient": {
            "deleting": false
          }
        }
      }
    },
    {
      "cell_type": "code",
      "source": [
        "import mlflow\n",
        "\n",
        "MLFLOW_TRACKING_URI = ml_client.workspaces.get(\n",
        "    name= ml_client.workspace_name\n",
        ").mlflow_tracking_uri\n",
        "\n",
        "print(MLFLOW_TRACKING_URI)"
      ],
      "outputs": [
        {
          "output_type": "stream",
          "name": "stdout",
          "text": "azureml://eastus2.api.azureml.ms/mlflow/v1.0/subscriptions/7b2e08d3-2780-4db1-b31f-5de9c87471ed/resourceGroups/projecto-azire-machine-learning/providers/Microsoft.MachineLearningServices/workspaces/azure-ml-projecto-1\n"
        }
      ],
      "execution_count": 147,
      "metadata": {
        "jupyter": {
          "source_hidden": false,
          "outputs_hidden": false
        },
        "nteract": {
          "transient": {
            "deleting": false
          }
        },
        "gather": {
          "logged": 1698576852443
        }
      }
    },
    {
      "cell_type": "code",
      "source": [
        "from mlflow.tracking.client import MlflowClient\n",
        "\n",
        "mlflow_client = MlflowClient()"
      ],
      "outputs": [],
      "execution_count": 148,
      "metadata": {
        "jupyter": {
          "source_hidden": false,
          "outputs_hidden": false
        },
        "nteract": {
          "transient": {
            "deleting": false
          }
        },
        "gather": {
          "logged": 1698576852588
        }
      }
    },
    {
      "cell_type": "code",
      "source": [
        "job_name = returned_job.name\n",
        "\n",
        "mlflow_parent_run = mlflow_client.get_run(job_name)\n",
        "\n",
        "print(mlflow_parent_run)"
      ],
      "outputs": [
        {
          "output_type": "stream",
          "name": "stdout",
          "text": "<Run: data=<RunData: metrics={'AUC_macro': 0.9491544724705346,\n 'AUC_micro': 0.95981700059512,\n 'AUC_weighted': 0.9491544724705346,\n 'accuracy': 0.9119718309859155,\n 'average_precision_score_macro': 0.9471592522261304,\n 'average_precision_score_micro': 0.9600146422526947,\n 'average_precision_score_weighted': 0.9559981963049825,\n 'balanced_accuracy': 0.8916756818311222,\n 'f1_score_macro': 0.8974092216105308,\n 'f1_score_micro': 0.9119718309859155,\n 'f1_score_weighted': 0.9112913352207107,\n 'log_loss': 0.35628088388009954,\n 'matthews_correlation': 0.7955621883404834,\n 'norm_macro_recall': 0.7833513636622444,\n 'precision_score_macro': 0.9039816772374911,\n 'precision_score_micro': 0.9119718309859155,\n 'precision_score_weighted': 0.9112584244012348,\n 'recall_score_macro': 0.8916756818311222,\n 'recall_score_micro': 0.9119718309859155,\n 'recall_score_weighted': 0.9119718309859155,\n 'weighted_accuracy': 0.9276301339775973}, params={}, tags={'automl_best_child_run_id': 'dynamic_hair_lwry98101p_8',\n 'fit_time_000': '0.106831;0.150801;0.293001;0.026624;0.015356000000000002;0.013388;0.021436999999999998;1.1541880000000002;3;5',\n 'iteration_000': '0;1;2;3;4;5;6;7;8;9',\n 'mlflow.rootRunId': 'dynamic_hair_lwry98101p',\n 'mlflow.runName': 'dynamic_hair_lwry98101p',\n 'mlflow.user': 'WILSON FABRICIO RAMIREZ SANDY',\n 'model_explain_best_run_child_id': 'dynamic_hair_lwry98101p_8',\n 'model_explain_run': 'best_run',\n 'pipeline_id_000': '5dfac790c5c209f98a1da2dc1c7fb76f0397324f;c7af0367625be6ac5c2fecbfc72ed444cb7a2111;799d2168db11fc19b9e1c6c1df62f8981ad39fe9;44b5d2d23120dfcf96a7dc6389a293d17a966b1b;3735210984ea10097d5c91905cf6300ac278cd89;5304e705d6f401cb07f85bcf0ca59ac1f84dfcf5;294650ec23bc3d067a4972de7ceb12f6e97260fa;3caa818370e5e0c328d6266c359019bd31681270;__AutoML_Ensemble__;__AutoML_Stack_Ensemble__',\n 'predicted_cost_000': '0;0;0.5;0.5;0.5;0.5;0.5;0.5;0;0',\n 'run_algorithm_000': 'LightGBM;XGBoostClassifier;ExtremeRandomTrees;XGBoostClassifier;LightGBM;LightGBM;XGBoostClassifier;LogisticRegression;VotingEnsemble;StackEnsemble',\n 'run_preprocessor_000': 'MaxAbsScaler;MaxAbsScaler;MaxAbsScaler;SparseNormalizer;MaxAbsScaler;MaxAbsScaler;StandardScalerWrapper;MaxAbsScaler;;',\n 'score_000': '0.8802816901408451;0.8697183098591549;0.8908450704225352;0.8908450704225352;0.9049295774647887;0.8943661971830986;0.8873239436619719;0.8908450704225352;0.9119718309859155;0.9119718309859155',\n 'training_percent_000': '100;100;100;100;100;100;100;100;100;100'}>, info=<RunInfo: artifact_uri='azureml://eastus2.api.azureml.ms/mlflow/v2.0/subscriptions/7b2e08d3-2780-4db1-b31f-5de9c87471ed/resourceGroups/projecto-azire-machine-learning/providers/Microsoft.MachineLearningServices/workspaces/azure-ml-projecto-1/experiments/a0f919a7-057f-4b06-9774-86b230078dc8/runs/dynamic_hair_lwry98101p/artifacts', end_time=1698575994284, experiment_id='a0f919a7-057f-4b06-9774-86b230078dc8', lifecycle_stage='active', run_id='dynamic_hair_lwry98101p', run_name='dynamic_hair_lwry98101p', run_uuid='dynamic_hair_lwry98101p', start_time=1698575121141, status='FINISHED', user_id='d654d531-954d-4cda-9ece-e69469c41dc4'>, inputs=<RunInputs: dataset_inputs=[]>>\n"
        }
      ],
      "execution_count": 149,
      "metadata": {
        "jupyter": {
          "source_hidden": false,
          "outputs_hidden": false
        },
        "nteract": {
          "transient": {
            "deleting": false
          }
        },
        "gather": {
          "logged": 1698576853477
        }
      }
    },
    {
      "cell_type": "code",
      "source": [
        "print(mlflow_parent_run.data.tags.keys())"
      ],
      "outputs": [
        {
          "output_type": "stream",
          "name": "stdout",
          "text": "dict_keys(['model_explain_run', 'pipeline_id_000', 'score_000', 'predicted_cost_000', 'fit_time_000', 'training_percent_000', 'iteration_000', 'run_preprocessor_000', 'run_algorithm_000', 'automl_best_child_run_id', 'model_explain_best_run_child_id', 'mlflow.rootRunId', 'mlflow.runName', 'mlflow.user'])\n"
        }
      ],
      "execution_count": 150,
      "metadata": {
        "jupyter": {
          "source_hidden": false,
          "outputs_hidden": false
        },
        "nteract": {
          "transient": {
            "deleting": false
          }
        },
        "gather": {
          "logged": 1698576854786
        }
      }
    },
    {
      "cell_type": "markdown",
      "source": [
        "### Sacamos el ID del mejor modelo"
      ],
      "metadata": {
        "nteract": {
          "transient": {
            "deleting": false
          }
        }
      }
    },
    {
      "cell_type": "code",
      "source": [
        "print(mlflow_parent_run.data.tags['automl_best_child_run_id'])"
      ],
      "outputs": [
        {
          "output_type": "stream",
          "name": "stdout",
          "text": "dynamic_hair_lwry98101p_8\n"
        }
      ],
      "execution_count": 151,
      "metadata": {
        "jupyter": {
          "source_hidden": false,
          "outputs_hidden": false
        },
        "nteract": {
          "transient": {
            "deleting": false
          }
        },
        "gather": {
          "logged": 1698576855810
        }
      }
    },
    {
      "cell_type": "code",
      "source": [
        "best_child_run_id = mlflow_parent_run.data.tags['automl_best_child_run_id']\n",
        "best_run = mlflow_client.get_run(best_child_run_id)"
      ],
      "outputs": [],
      "execution_count": 152,
      "metadata": {
        "jupyter": {
          "source_hidden": false,
          "outputs_hidden": false
        },
        "nteract": {
          "transient": {
            "deleting": false
          }
        },
        "gather": {
          "logged": 1698576859440
        }
      }
    },
    {
      "cell_type": "markdown",
      "source": [
        "### Observamos las metricas para el mejor modelo"
      ],
      "metadata": {
        "nteract": {
          "transient": {
            "deleting": false
          }
        }
      }
    },
    {
      "cell_type": "code",
      "source": [
        "best_run.data.metrics"
      ],
      "outputs": [
        {
          "output_type": "execute_result",
          "execution_count": 153,
          "data": {
            "text/plain": "{'average_precision_score_weighted': 0.9559981963049825,\n 'AUC_macro': 0.9491544724705346,\n 'recall_score_micro': 0.9119718309859155,\n 'balanced_accuracy': 0.8916756818311222,\n 'f1_score_micro': 0.9119718309859155,\n 'AUC_weighted': 0.9491544724705346,\n 'precision_score_weighted': 0.9112584244012348,\n 'f1_score_macro': 0.8974092216105308,\n 'norm_macro_recall': 0.7833513636622444,\n 'weighted_accuracy': 0.9276301339775973,\n 'f1_score_weighted': 0.9112913352207107,\n 'precision_score_micro': 0.9119718309859155,\n 'log_loss': 0.35628088388009954,\n 'average_precision_score_macro': 0.9471592522261304,\n 'matthews_correlation': 0.7955621883404834,\n 'recall_score_macro': 0.8916756818311222,\n 'recall_score_weighted': 0.9119718309859155,\n 'average_precision_score_micro': 0.9600146422526947,\n 'accuracy': 0.9119718309859155,\n 'AUC_micro': 0.95981700059512,\n 'precision_score_macro': 0.9039816772374911}"
          },
          "metadata": {}
        }
      ],
      "execution_count": 153,
      "metadata": {
        "jupyter": {
          "source_hidden": false,
          "outputs_hidden": false
        },
        "nteract": {
          "transient": {
            "deleting": false
          }
        },
        "gather": {
          "logged": 1698576860889
        }
      }
    },
    {
      "cell_type": "markdown",
      "source": [
        "### Descargamos los artefactos del modelo"
      ],
      "metadata": {
        "nteract": {
          "transient": {
            "deleting": false
          }
        }
      }
    },
    {
      "cell_type": "code",
      "source": [
        "import os\n",
        "local_dir = \"./artifact_download\"\n",
        "if not os.path.exists(local_dir):\n",
        "    os.mkdir(local_dir)"
      ],
      "outputs": [],
      "execution_count": 154,
      "metadata": {
        "jupyter": {
          "source_hidden": false,
          "outputs_hidden": false
        },
        "nteract": {
          "transient": {
            "deleting": false
          }
        },
        "gather": {
          "logged": 1698576862871
        }
      }
    },
    {
      "cell_type": "code",
      "source": [
        "local_path = mlflow_client.download_artifacts(\n",
        "    best_run.info.run_id, \"outputs\", local_dir\n",
        ")\n",
        "local_path"
      ],
      "outputs": [
        {
          "output_type": "stream",
          "name": "stderr",
          "text": "/tmp/ipykernel_5393/1692857238.py:1: FutureWarning: ``mlflow.tracking.client.MlflowClient.download_artifacts`` is deprecated since 2.0. This method will be removed in a future release. Use ``mlflow.artifacts.download_artifacts`` instead.\n  local_path = mlflow_client.download_artifacts(\n"
        },
        {
          "output_type": "execute_result",
          "execution_count": 155,
          "data": {
            "text/plain": "'/mnt/batch/tasks/shared/LS_root/mounts/clusters/jupyter-compiler/code/Users/wilson.ramirez/project-I/artifact_download/outputs'"
          },
          "metadata": {}
        }
      ],
      "execution_count": 155,
      "metadata": {
        "jupyter": {
          "source_hidden": false,
          "outputs_hidden": false
        },
        "nteract": {
          "transient": {
            "deleting": false
          }
        },
        "gather": {
          "logged": 1698576868760
        }
      }
    },
    {
      "cell_type": "code",
      "source": [
        "from azure.ai.ml.entities import (\n",
        "    ManagedOnlineEndpoint,\n",
        "    ManagedOnlineDeployment,\n",
        "    Model,\n",
        "    Environment,\n",
        "    CodeConfiguration,\n",
        "    ProbeSettings\n",
        ")"
      ],
      "outputs": [],
      "execution_count": 156,
      "metadata": {
        "jupyter": {
          "source_hidden": false,
          "outputs_hidden": false
        },
        "nteract": {
          "transient": {
            "deleting": false
          }
        },
        "gather": {
          "logged": 1698576868953
        }
      }
    },
    {
      "cell_type": "markdown",
      "source": [
        "### Empezamos con la creacion del endpoint"
      ],
      "metadata": {
        "nteract": {
          "transient": {
            "deleting": false
          }
        }
      }
    },
    {
      "cell_type": "code",
      "source": [
        "import datetime\n",
        "online_endpoint_name = 'titanic-survivors-'+datetime.datetime.now().strftime(\n",
        "    \"%m-%d-%-H%M\"\n",
        ")\n",
        "\n",
        "endpoint = ManagedOnlineEndpoint(\n",
        "    name = online_endpoint_name,\n",
        "    description= \"this is an endpoint for titanic survivability\",\n",
        "    auth_mode=\"key\",\n",
        "    tags={\"Job\": \"Clasification job for predicting titanic survivavility\"}\n",
        ")\n",
        "online_endpoint_name"
      ],
      "outputs": [
        {
          "output_type": "execute_result",
          "execution_count": 157,
          "data": {
            "text/plain": "'titanic-survivors-10-29-1047'"
          },
          "metadata": {}
        }
      ],
      "execution_count": 157,
      "metadata": {
        "jupyter": {
          "source_hidden": false,
          "outputs_hidden": false
        },
        "nteract": {
          "transient": {
            "deleting": false
          }
        },
        "gather": {
          "logged": 1698576869193
        }
      }
    },
    {
      "cell_type": "code",
      "source": [
        "ml_client.begin_create_or_update(endpoint).result()"
      ],
      "outputs": [
        {
          "output_type": "execute_result",
          "execution_count": 158,
          "data": {
            "text/plain": "ManagedOnlineEndpoint({'public_network_access': 'Enabled', 'provisioning_state': 'Succeeded', 'scoring_uri': 'https://titanic-survivors-10-29-1047.eastus2.inference.ml.azure.com/score', 'openapi_uri': 'https://titanic-survivors-10-29-1047.eastus2.inference.ml.azure.com/swagger.json', 'name': 'titanic-survivors-10-29-1047', 'description': 'this is an endpoint for titanic survivability', 'tags': {'Job': 'Clasification job for predicting titanic survivavility'}, 'properties': {'azureml.onlineendpointid': '/subscriptions/7b2e08d3-2780-4db1-b31f-5de9c87471ed/resourcegroups/projecto-azire-machine-learning/providers/microsoft.machinelearningservices/workspaces/azure-ml-projecto-1/onlineendpoints/titanic-survivors-10-29-1047', 'AzureAsyncOperationUri': 'https://management.azure.com/subscriptions/7b2e08d3-2780-4db1-b31f-5de9c87471ed/providers/Microsoft.MachineLearningServices/locations/eastus2/mfeOperationsStatus/oe:b4d6cf42-f975-46c7-be7c-4a853be77019:738ed802-781a-4403-9441-cb31283d3a52?api-version=2022-02-01-preview'}, 'print_as_yaml': True, 'id': '/subscriptions/7b2e08d3-2780-4db1-b31f-5de9c87471ed/resourceGroups/projecto-azire-machine-learning/providers/Microsoft.MachineLearningServices/workspaces/azure-ml-projecto-1/onlineEndpoints/titanic-survivors-10-29-1047', 'Resource__source_path': None, 'base_path': '/mnt/batch/tasks/shared/LS_root/mounts/clusters/jupyter-compiler/code/Users/wilson.ramirez/project-I', 'creation_context': None, 'serialize': <msrest.serialization.Serializer object at 0x7f6d535c6980>, 'auth_mode': 'key', 'location': 'eastus2', 'identity': <azure.ai.ml.entities._credentials.IdentityConfiguration object at 0x7f6d535c4280>, 'traffic': {}, 'mirror_traffic': {}, 'kind': 'Managed'})"
          },
          "metadata": {}
        }
      ],
      "execution_count": 158,
      "metadata": {
        "jupyter": {
          "source_hidden": false,
          "outputs_hidden": false
        },
        "nteract": {
          "transient": {
            "deleting": false
          }
        },
        "gather": {
          "logged": 1698576931108
        }
      }
    },
    {
      "cell_type": "code",
      "source": [
        "model_name = \"titanic-survivalillity\"\n",
        "\n",
        "model = Model(\n",
        "    path=f\"azureml://jobs/{best_run.info.run_id}/outputs/artifacts/outputs/mlflow-model/\",\n",
        "    name=model_name,\n",
        "    description=\"my simple titanic survivability check model\",\n",
        "    type=AssetTypes.MLFLOW_MODEL\n",
        ")"
      ],
      "outputs": [],
      "execution_count": 160,
      "metadata": {
        "jupyter": {
          "source_hidden": false,
          "outputs_hidden": false
        },
        "nteract": {
          "transient": {
            "deleting": false
          }
        },
        "gather": {
          "logged": 1698576944045
        }
      }
    },
    {
      "cell_type": "code",
      "source": [
        "registered_model = ml_client.models.create_or_update(model)"
      ],
      "outputs": [],
      "execution_count": 161,
      "metadata": {
        "jupyter": {
          "source_hidden": false,
          "outputs_hidden": false
        },
        "nteract": {
          "transient": {
            "deleting": false
          }
        },
        "gather": {
          "logged": 1698576946049
        }
      }
    },
    {
      "cell_type": "code",
      "source": [
        "registered_model.id"
      ],
      "outputs": [
        {
          "output_type": "execute_result",
          "execution_count": 162,
          "data": {
            "text/plain": "'/subscriptions/7b2e08d3-2780-4db1-b31f-5de9c87471ed/resourceGroups/projecto-azire-machine-learning/providers/Microsoft.MachineLearningServices/workspaces/azure-ml-projecto-1/models/titanic-survivalillity/versions/8'"
          },
          "metadata": {}
        }
      ],
      "execution_count": 162,
      "metadata": {
        "jupyter": {
          "source_hidden": false,
          "outputs_hidden": false
        },
        "nteract": {
          "transient": {
            "deleting": false
          }
        },
        "gather": {
          "logged": 1698576946223
        }
      }
    },
    {
      "cell_type": "code",
      "source": [
        "from azure.ai.ml.entities import OnlineRequestSettings\n",
        "\n",
        "req_timeout = OnlineRequestSettings(request_timeout_ms=90000)\n",
        "\n",
        "deployment = ManagedOnlineDeployment(\n",
        "    name=\"survivability-titanic-model\",\n",
        "    endpoint_name=online_endpoint_name,\n",
        "    model=registered_model.id,\n",
        "    instance_type=\"Standard_D2as_v4\",\n",
        "    instance_count=1,\n",
        "    request_settings=req_timeout\n",
        ")"
      ],
      "outputs": [],
      "execution_count": 163,
      "metadata": {
        "jupyter": {
          "source_hidden": false,
          "outputs_hidden": false
        },
        "nteract": {
          "transient": {
            "deleting": false
          }
        },
        "gather": {
          "logged": 1698576947509
        }
      }
    },
    {
      "cell_type": "markdown",
      "source": [
        "### Desplegamos el modelo"
      ],
      "metadata": {
        "nteract": {
          "transient": {
            "deleting": false
          }
        }
      }
    },
    {
      "cell_type": "code",
      "source": [
        "ml_client.online_deployments.begin_create_or_update(deployment).result()"
      ],
      "outputs": [
        {
          "output_type": "stream",
          "name": "stderr",
          "text": "Check: endpoint titanic-survivors-10-29-1047 exists\n"
        },
        {
          "output_type": "stream",
          "name": "stdout",
          "text": "........................................................................."
        },
        {
          "output_type": "execute_result",
          "execution_count": 165,
          "data": {
            "text/plain": "ManagedOnlineDeployment({'private_network_connection': None, 'provisioning_state': 'Succeeded', 'endpoint_name': 'titanic-survivors-10-29-1047', 'type': 'Managed', 'name': 'survivability-titanic-model', 'description': None, 'tags': {}, 'properties': {'AzureAsyncOperationUri': 'https://management.azure.com/subscriptions/7b2e08d3-2780-4db1-b31f-5de9c87471ed/providers/Microsoft.MachineLearningServices/locations/eastus2/mfeOperationsStatus/od:b4d6cf42-f975-46c7-be7c-4a853be77019:49a1dc79-8d17-4a2d-af02-b92b2f288dff?api-version=2023-04-01-preview'}, 'print_as_yaml': True, 'id': '/subscriptions/7b2e08d3-2780-4db1-b31f-5de9c87471ed/resourceGroups/projecto-azire-machine-learning/providers/Microsoft.MachineLearningServices/workspaces/azure-ml-projecto-1/onlineEndpoints/titanic-survivors-10-29-1047/deployments/survivability-titanic-model', 'Resource__source_path': None, 'base_path': '/mnt/batch/tasks/shared/LS_root/mounts/clusters/jupyter-compiler/code/Users/wilson.ramirez/project-I', 'creation_context': None, 'serialize': <msrest.serialization.Serializer object at 0x7f6d53739ea0>, 'model': '/subscriptions/7b2e08d3-2780-4db1-b31f-5de9c87471ed/resourceGroups/projecto-azire-machine-learning/providers/Microsoft.MachineLearningServices/workspaces/azure-ml-projecto-1/models/titanic-survivalillity/versions/8', 'code_configuration': None, 'environment': None, 'environment_variables': {}, 'app_insights_enabled': False, 'scale_settings': <azure.ai.ml.entities._deployment.scale_settings.DefaultScaleSettings object at 0x7f6d53738e50>, 'request_settings': <azure.ai.ml.entities._deployment.deployment_settings.OnlineRequestSettings object at 0x7f6d5373b790>, 'liveness_probe': <azure.ai.ml.entities._deployment.deployment_settings.ProbeSettings object at 0x7f6d5373b730>, 'readiness_probe': <azure.ai.ml.entities._deployment.deployment_settings.ProbeSettings object at 0x7f6d53738ee0>, 'instance_count': 1, 'arm_type': 'online_deployment', 'model_mount_path': None, 'instance_type': 'Standard_D2as_v4', 'data_collector': None, 'egress_public_network_access': 'Enabled'})"
          },
          "metadata": {}
        }
      ],
      "execution_count": 165,
      "metadata": {
        "jupyter": {
          "source_hidden": false,
          "outputs_hidden": false
        },
        "nteract": {
          "transient": {
            "deleting": false
          }
        },
        "gather": {
          "logged": 1698577741871
        }
      }
    },
    {
      "cell_type": "markdown",
      "source": [
        "### Consumimos el modelo (Directo del cliente de azure)"
      ],
      "metadata": {
        "nteract": {
          "transient": {
            "deleting": false
          }
        }
      }
    },
    {
      "cell_type": "code",
      "source": [
        "import json\n",
        "request_json = {\n",
        "  \"input_data\": {\n",
        "    \"columns\": [\n",
        "      \"Column2\",\n",
        "      \"PassengerId\",\n",
        "      \"Pclass\",\n",
        "      \"Age\",\n",
        "      \"SibSp\",\n",
        "      \"Parch\",\n",
        "      \"Fare\",\n",
        "      \"Sex_female\",\n",
        "      \"Sex_male\",\n",
        "      \"Embarked_C\",\n",
        "      \"Embarked_Q\",\n",
        "      \"Embarked_S\"\n",
        "    ],\n",
        "    \"data\": [\n",
        "            [1,1,3,14,1,2,150,True,False,True,False,False]\n",
        "        ]\n",
        "    }\n",
        "}\n",
        "\n",
        "request_name = \"request_titanic_survived_model.json\"\n",
        "with open(request_name, \"w\") as request_file:\n",
        "    json.dump(request_json, request_file)\n",
        "\n",
        "resp = ml_client.online_endpoints.invoke(\n",
        "    endpoint_name = 'titanic-survivors-10-29-1047',\n",
        "    deployment_name = \"survivability-titanic-model\",\n",
        "    request_file=request_name\n",
        ")\n",
        "resp"
      ],
      "outputs": [
        {
          "output_type": "execute_result",
          "execution_count": 20,
          "data": {
            "text/plain": "'[1]'"
          },
          "metadata": {}
        }
      ],
      "execution_count": 20,
      "metadata": {
        "jupyter": {
          "source_hidden": false,
          "outputs_hidden": false
        },
        "nteract": {
          "transient": {
            "deleting": false
          }
        },
        "gather": {
          "logged": 1698608319297
        }
      }
    },
    {
      "cell_type": "markdown",
      "source": [
        "### Consumimos el modelo (Mediante request Python)"
      ],
      "metadata": {
        "nteract": {
          "transient": {
            "deleting": false
          }
        }
      }
    },
    {
      "cell_type": "code",
      "source": [
        "import urllib.request\n",
        "import json\n",
        "import os\n",
        "import ssl\n",
        "\n",
        "def allowSelfSignedHttps(allowed):\n",
        "    # bypass the server certificate verification on client side\n",
        "    if allowed and not os.environ.get('PYTHONHTTPSVERIFY', '') and getattr(ssl, '_create_unverified_context', None):\n",
        "        ssl._create_default_https_context = ssl._create_unverified_context\n",
        "\n",
        "allowSelfSignedHttps(True) # this line is needed if you use self-signed certificate in your scoring service.\n",
        "\n",
        "data =  {\n",
        "  \"input_data\": {\n",
        "    \"columns\": [\n",
        "      \"Column2\",\n",
        "      \"PassengerId\",\n",
        "      \"Pclass\",\n",
        "      \"Age\",\n",
        "      \"SibSp\",\n",
        "      \"Parch\",\n",
        "      \"Fare\",\n",
        "      \"Sex_female\",\n",
        "      \"Sex_male\",\n",
        "      \"Embarked_C\",\n",
        "      \"Embarked_Q\",\n",
        "      \"Embarked_S\"\n",
        "    ],\n",
        "    \"data\": [\n",
        "            [1,1,3,14,1,2,150,True,False,True,False,False]\n",
        "        ]\n",
        "    }\n",
        "}\n",
        "\n",
        "body = str.encode(json.dumps(data))\n",
        "\n",
        "url = 'https://titanic-survivors-10-29-1047.eastus2.inference.ml.azure.com/score'\n",
        "# Replace this with the primary/secondary key or AMLToken for the endpoint\n",
        "api_key = 'CXVJwqBvCsyMJigwXs5AG80axj9gPdmD'\n",
        "if not api_key:\n",
        "    raise Exception(\"A key should be provided to invoke the endpoint\")\n",
        "\n",
        "# The azureml-model-deployment header will force the request to go to a specific deployment.\n",
        "# Remove this header to have the request observe the endpoint traffic rules\n",
        "headers = {'Content-Type':'application/json', 'Authorization':('Bearer '+ api_key), 'azureml-model-deployment': 'survivability-titanic-model' }\n",
        "\n",
        "req = urllib.request.Request(url, body, headers)\n",
        "\n",
        "try:\n",
        "    response = urllib.request.urlopen(req)\n",
        "\n",
        "    result = response.read()\n",
        "    print(result)\n",
        "except urllib.error.HTTPError as error:\n",
        "    print(\"The request failed with status code: \" + str(error.code))\n",
        "\n",
        "    # Print the headers - they include the requert ID and the timestamp, which are useful for debugging the failure\n",
        "    print(error.info())\n",
        "    print(error.read().decode(\"utf8\", 'ignore'))\n"
      ],
      "outputs": [
        {
          "output_type": "stream",
          "name": "stdout",
          "text": "b'[1]'\n"
        }
      ],
      "execution_count": 21,
      "metadata": {
        "jupyter": {
          "source_hidden": false,
          "outputs_hidden": false
        },
        "nteract": {
          "transient": {
            "deleting": false
          }
        },
        "gather": {
          "logged": 1698608698445
        }
      }
    },
    {
      "cell_type": "code",
      "source": [],
      "outputs": [],
      "execution_count": null,
      "metadata": {
        "jupyter": {
          "source_hidden": false,
          "outputs_hidden": false
        },
        "nteract": {
          "transient": {
            "deleting": false
          }
        }
      }
    }
  ],
  "metadata": {
    "kernelspec": {
      "name": "python310-sdkv2",
      "language": "python",
      "display_name": "Python 3.10 - SDK v2"
    },
    "language_info": {
      "name": "python",
      "version": "3.10.11",
      "mimetype": "text/x-python",
      "codemirror_mode": {
        "name": "ipython",
        "version": 3
      },
      "pygments_lexer": "ipython3",
      "nbconvert_exporter": "python",
      "file_extension": ".py"
    },
    "microsoft": {
      "ms_spell_check": {
        "ms_spell_check_language": "en"
      },
      "host": {
        "AzureML": {
          "notebookHasBeenCompleted": true
        }
      }
    },
    "kernel_info": {
      "name": "python310-sdkv2"
    },
    "nteract": {
      "version": "nteract-front-end@1.0.0"
    }
  },
  "nbformat": 4,
  "nbformat_minor": 2
}