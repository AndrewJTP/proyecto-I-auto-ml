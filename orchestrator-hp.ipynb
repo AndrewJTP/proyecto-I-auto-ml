{
  "cells": [
    {
      "cell_type": "code",
      "source": [
        "from azure.identity import DefaultAzureCredential\n",
        "from azure.ai.ml import MLClient\n",
        "from azure.ai.ml import command, Input\n",
        "from azure.ai.ml.sweep import Choice, Uniform, MedianStoppingPolicy\n",
        "from azure.identity import DefaultAzureCredential"
      ],
      "outputs": [],
      "execution_count": 44,
      "metadata": {
        "jupyter": {
          "source_hidden": false,
          "outputs_hidden": false
        },
        "nteract": {
          "transient": {
            "deleting": false
          }
        },
        "gather": {
          "logged": 1698093255596
        }
      }
    },
    {
      "cell_type": "code",
      "source": [
        "credential = DefaultAzureCredential()\n",
        "ml_client = None\n",
        "try:\n",
        "    ml_client = MLClient.from_config(credential)\n",
        "except Exception as ex:\n",
        "    print(ex)\n",
        "    # Enter details of your Azure Machine Learning workspace\n",
        "    subscription_id = 'd86ba508-6a09-4959-8b9f-f076ad827658'\n",
        "    resource_group = 'cloud-computing-module-iv'\n",
        "    workspace_name = 'cloud-computing-project'\n",
        "    ml_client = MLClient(credential, subscription_id, resource_group, workspace_name)"
      ],
      "outputs": [
        {
          "output_type": "error",
          "ename": "NameError",
          "evalue": "name 'DefaultAzureCredential' is not defined",
          "traceback": [
            "\u001b[0;31m---------------------------------------------------------------------------\u001b[0m",
            "\u001b[0;31mNameError\u001b[0m                                 Traceback (most recent call last)",
            "Cell \u001b[0;32mIn[4], line 1\u001b[0m\n\u001b[0;32m----> 1\u001b[0m credential \u001b[38;5;241m=\u001b[39m \u001b[43mDefaultAzureCredential\u001b[49m()\n\u001b[1;32m      2\u001b[0m ml_client \u001b[38;5;241m=\u001b[39m \u001b[38;5;28;01mNone\u001b[39;00m\n\u001b[1;32m      3\u001b[0m \u001b[38;5;28;01mtry\u001b[39;00m:\n",
            "\u001b[0;31mNameError\u001b[0m: name 'DefaultAzureCredential' is not defined"
          ]
        }
      ],
      "execution_count": 4,
      "metadata": {
        "jupyter": {
          "source_hidden": false,
          "outputs_hidden": false
        },
        "nteract": {
          "transient": {
            "deleting": false
          }
        },
        "gather": {
          "logged": 1698614264931
        }
      }
    },
    {
      "cell_type": "code",
      "source": [
        "from azure.ai.ml import command, Input\n",
        "\n",
        "# define the command\n",
        "command_job = command(\n",
        "    code=\"./src\",\n",
        "    command=\"python main.py --titanic-csv ${{inputs.titanic_csv}} --learning-rate ${{inputs.learning_rate}} --boosting ${{inputs.boosting}} --num-leaves ${{inputs.num_leaves}}\",\n",
        "    environment=\"AzureML-lightgbm-3.2-ubuntu18.04-py37-cpu@latest\",\n",
        "    inputs={\n",
        "        \"titanic_csv\": Input(\n",
        "            type=\"uri_file\",\n",
        "            path=\"./data/processed_titanic_data.csv\",\n",
        "        ),\n",
        "        \"learning_rate\": 0.9,\n",
        "        \"boosting\": \"gbdt\",\n",
        "        \"num_leaves\": 31,\n",
        "    },\n",
        "    compute=\"cpu-cluster\",\n",
        ")\n",
        "\n"
      ],
      "outputs": [],
      "execution_count": null,
      "metadata": {
        "jupyter": {
          "source_hidden": false,
          "outputs_hidden": false
        },
        "nteract": {
          "transient": {
            "deleting": false
          }
        },
        "gather": {
          "logged": 1698614262037
        }
      }
    },
    {
      "cell_type": "code",
      "source": [
        "# submit the command\n",
        "returned_job = ml_client.jobs.create_or_update(command_job)\n",
        "# get a URL for the status of the job\n",
        "returned_job.studio_url"
      ],
      "outputs": [
        {
          "output_type": "stream",
          "name": "stderr",
          "text": "Uploading proyecto-I (0.91 MBs): 100%|██████████| 908367/908367 [00:00<00:00, 3714059.19it/s]\n\n\n"
        },
        {
          "output_type": "execute_result",
          "execution_count": 58,
          "data": {
            "text/plain": "'https://ml.azure.com/runs/bubbly_cushion_33p2bz20mt?wsid=/subscriptions/d86ba508-6a09-4959-8b9f-f076ad827658/resourcegroups/cloud-computing-module-iv/workspaces/cloud-computing-project&tid=3cc9ebfe-6684-4004-9d2d-9988b42cbf67'"
          },
          "metadata": {}
        }
      ],
      "execution_count": 58,
      "metadata": {
        "jupyter": {
          "source_hidden": false,
          "outputs_hidden": false
        },
        "nteract": {
          "transient": {
            "deleting": false
          }
        },
        "gather": {
          "logged": 1698094105957
        }
      }
    },
    {
      "cell_type": "code",
      "source": [
        "command_job_for_sweep = command_job(\n",
        "    learning_rate=Uniform(min_value=0.01, max_value=0.9),\n",
        "    boosting=Choice(values=[\"gbdt\", \"dart\"]),\n",
        "    num_leaves=Choice(values=[31, 35, 39, 43]),\n",
        ")"
      ],
      "outputs": [],
      "execution_count": 61,
      "metadata": {
        "jupyter": {
          "source_hidden": false,
          "outputs_hidden": false
        },
        "nteract": {
          "transient": {
            "deleting": false
          }
        },
        "gather": {
          "logged": 1698094281675
        }
      }
    },
    {
      "cell_type": "code",
      "source": [
        "# apply the sweep parameter to obtain the sweep_job\n",
        "sweep_job = command_job_for_sweep.sweep(\n",
        "    compute=\"cpu-cluster\",\n",
        "    sampling_algorithm=\"random\",\n",
        "    primary_metric=\"binary_error\",\n",
        "    goal=\"Maximize\",\n",
        ")\n",
        "\n",
        "# define the limits for this sweep\n",
        "sweep_job.set_limits(max_total_trials=20, max_concurrent_trials=10, timeout=7200)"
      ],
      "outputs": [],
      "execution_count": 62,
      "metadata": {
        "jupyter": {
          "source_hidden": false,
          "outputs_hidden": false
        },
        "nteract": {
          "transient": {
            "deleting": false
          }
        },
        "gather": {
          "logged": 1698094282567
        }
      }
    },
    {
      "cell_type": "code",
      "source": [
        "# submit the sweep\n",
        "returned_sweep_job = ml_client.create_or_update(sweep_job)\n",
        "# get a URL for the status of the job\n",
        "returned_sweep_job.studio_url"
      ],
      "outputs": [
        {
          "output_type": "execute_result",
          "execution_count": 63,
          "data": {
            "text/plain": "'https://ml.azure.com/runs/silly_airport_jvwvn72j09?wsid=/subscriptions/d86ba508-6a09-4959-8b9f-f076ad827658/resourcegroups/cloud-computing-module-iv/workspaces/cloud-computing-project&tid=3cc9ebfe-6684-4004-9d2d-9988b42cbf67'"
          },
          "metadata": {}
        }
      ],
      "execution_count": 63,
      "metadata": {
        "jupyter": {
          "source_hidden": false,
          "outputs_hidden": false
        },
        "nteract": {
          "transient": {
            "deleting": false
          }
        },
        "gather": {
          "logged": 1698094286665
        }
      }
    },
    {
      "cell_type": "code",
      "source": [],
      "outputs": [],
      "execution_count": null,
      "metadata": {
        "jupyter": {
          "source_hidden": false,
          "outputs_hidden": false
        },
        "nteract": {
          "transient": {
            "deleting": false
          }
        }
      }
    }
  ],
  "metadata": {
    "kernelspec": {
      "name": "python310-sdkv2",
      "language": "python",
      "display_name": "Python 3.10 - SDK v2"
    },
    "language_info": {
      "name": "python",
      "version": "3.10.11",
      "mimetype": "text/x-python",
      "codemirror_mode": {
        "name": "ipython",
        "version": 3
      },
      "pygments_lexer": "ipython3",
      "nbconvert_exporter": "python",
      "file_extension": ".py"
    },
    "microsoft": {
      "ms_spell_check": {
        "ms_spell_check_language": "en"
      },
      "host": {
        "AzureML": {
          "notebookHasBeenCompleted": true
        }
      }
    },
    "kernel_info": {
      "name": "python310-sdkv2"
    },
    "nteract": {
      "version": "nteract-front-end@1.0.0"
    }
  },
  "nbformat": 4,
  "nbformat_minor": 2
}